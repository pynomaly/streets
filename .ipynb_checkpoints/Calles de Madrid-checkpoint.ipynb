{
 "cells": [
  {
   "cell_type": "markdown",
   "metadata": {},
   "source": [
    "# Street names of Madrid"
   ]
  },
  {
   "cell_type": "markdown",
   "metadata": {},
   "source": [
    "## Scraping list names from the council web"
   ]
  },
  {
   "cell_type": "code",
   "execution_count": 1,
   "metadata": {},
   "outputs": [],
   "source": [
    "from requests import get"
   ]
  },
  {
   "cell_type": "markdown",
   "metadata": {},
   "source": [
    "### Scraping street names that begin with A"
   ]
  },
  {
   "cell_type": "code",
   "execution_count": 2,
   "metadata": {},
   "outputs": [
    {
     "name": "stdout",
     "output_type": "stream",
     "text": [
      "\r\n",
      "<!DOCTYPE html PUBLIC \"-//W3C//DTD XHTML 1.0 Transitional//EN\" \"http://www.w3.org/TR/xhtml1/DTD/xhtml1-transitional.dtd\">\r\n",
      "<html xmlns=\"http://www.w3.org/1999/xhtml\" lang=\"es\">\r\n",
      "\r\n",
      "<head>\r\n",
      "\t<meta http-equiv=\"Content-Type\" content=\"text/html; charset=windows-1252\"/>\r\n",
      "\t<meta name=\"TITLE\" content=\"Nomecalles - Nomenclator y Callejero de la Comunidad de Madrid\"/>\r\n",
      "\t<meta name=\"DC.TITLE\" content=\"Nomecalles - Nomenclator y Callejero de la Comunidad de Madrid\"/>\r\n",
      "\t<meta http-equiv=\"TITLE\" content=\"No\n"
     ]
    }
   ],
   "source": [
    "url = \"http://www.madrid.org/nomecalles/ListaCalles.icm?munic=079&letra_inicial=A\"\n",
    "response = get(url)\n",
    "print(response.text[:500])"
   ]
  },
  {
   "cell_type": "code",
   "execution_count": 3,
   "metadata": {},
   "outputs": [],
   "source": [
    "from bs4 import BeautifulSoup\n",
    "html_soup = BeautifulSoup(response.text, 'html.parser')"
   ]
  },
  {
   "cell_type": "code",
   "execution_count": 4,
   "metadata": {},
   "outputs": [],
   "source": [
    "street_container = html_soup.find_all('td', attrs = {'width': '25%'})"
   ]
  },
  {
   "cell_type": "code",
   "execution_count": 5,
   "metadata": {},
   "outputs": [],
   "source": [
    "street_names = street_container[0].find_all('a')"
   ]
  },
  {
   "cell_type": "code",
   "execution_count": 6,
   "metadata": {},
   "outputs": [
    {
     "data": {
      "text/plain": [
       "250"
      ]
     },
     "execution_count": 6,
     "metadata": {},
     "output_type": "execute_result"
    }
   ],
   "source": [
    "len(street_names)"
   ]
  },
  {
   "cell_type": "code",
   "execution_count": 16,
   "metadata": {},
   "outputs": [
    {
     "data": {
      "text/plain": [
       "['Calle de Abad Juan Catalán',\n",
       " 'Calle de Abada',\n",
       " 'Calle de Abades',\n",
       " 'Calle de la Abadesa',\n",
       " 'Calle de Ábalos',\n",
       " 'Calle del Abanico',\n",
       " 'Calle de Abantos',\n",
       " 'Calle de Abardero',\n",
       " 'Calle de Abarzuza',\n",
       " 'Calle de Abay']"
      ]
     },
     "execution_count": 16,
     "metadata": {},
     "output_type": "execute_result"
    }
   ],
   "source": [
    "a_streets = []\n",
    "\n",
    "for n in range(len(street_names)):\n",
    "    name = street_names[n].text\n",
    "    a_streets.append(name)\n",
    "\n",
    "a_streets[:10]"
   ]
  },
  {
   "cell_type": "markdown",
   "metadata": {},
   "source": [
    "### Scraping all the letters"
   ]
  },
  {
   "cell_type": "code",
   "execution_count": 12,
   "metadata": {},
   "outputs": [],
   "source": [
    "container = html_soup.find_all('td')\n",
    "letter_container = container[5].find_all('a')"
   ]
  },
  {
   "cell_type": "code",
   "execution_count": 15,
   "metadata": {},
   "outputs": [
    {
     "data": {
      "text/plain": [
       "['http://www.madrid.org/nomecalles/ListaCalles.icm?munic=079&letra_inicial=A',\n",
       " 'http://www.madrid.org/nomecalles/ListaCalles.icm?munic=079&letra_inicial=B',\n",
       " 'http://www.madrid.org/nomecalles/ListaCalles.icm?munic=079&letra_inicial=C',\n",
       " 'http://www.madrid.org/nomecalles/ListaCalles.icm?munic=079&letra_inicial=D',\n",
       " 'http://www.madrid.org/nomecalles/ListaCalles.icm?munic=079&letra_inicial=E',\n",
       " 'http://www.madrid.org/nomecalles/ListaCalles.icm?munic=079&letra_inicial=F',\n",
       " 'http://www.madrid.org/nomecalles/ListaCalles.icm?munic=079&letra_inicial=G',\n",
       " 'http://www.madrid.org/nomecalles/ListaCalles.icm?munic=079&letra_inicial=H',\n",
       " 'http://www.madrid.org/nomecalles/ListaCalles.icm?munic=079&letra_inicial=I',\n",
       " 'http://www.madrid.org/nomecalles/ListaCalles.icm?munic=079&letra_inicial=J']"
      ]
     },
     "execution_count": 15,
     "metadata": {},
     "output_type": "execute_result"
    }
   ],
   "source": [
    "urls = []\n",
    "\n",
    "for a in letter_container:\n",
    "    url = a.get('href')\n",
    "    urls.append('http://www.madrid.org'+url)\n",
    "    \n",
    "urls[:10]"
   ]
  },
  {
   "cell_type": "code",
   "execution_count": 17,
   "metadata": {},
   "outputs": [
    {
     "data": {
      "text/plain": [
       "['Calle de Abad Juan Catalán',\n",
       " 'Calle de Abada',\n",
       " 'Calle de Abades',\n",
       " 'Calle de la Abadesa',\n",
       " 'Calle de Ábalos']"
      ]
     },
     "execution_count": 17,
     "metadata": {},
     "output_type": "execute_result"
    }
   ],
   "source": [
    "streets_final = []\n",
    "\n",
    "for url in urls:\n",
    "    response = get(url)\n",
    "    if response.status_code != 200:\n",
    "        continue\n",
    "    html_soup = BeautifulSoup(response.text, 'html.parser')\n",
    "    street_container = html_soup.find_all('td', attrs = {'width': '25%'})\n",
    "    street_names = street_container[0].find_all('a')\n",
    "    for n in range(len(street_names)):\n",
    "        name = street_names[n].text\n",
    "        streets_final.append(name)\n",
    "\n",
    "streets_final[:5]"
   ]
  },
  {
   "cell_type": "code",
   "execution_count": 18,
   "metadata": {},
   "outputs": [
    {
     "data": {
      "text/plain": [
       "2275"
      ]
     },
     "execution_count": 18,
     "metadata": {},
     "output_type": "execute_result"
    }
   ],
   "source": [
    "len(streets_final)"
   ]
  },
  {
   "cell_type": "code",
   "execution_count": 19,
   "metadata": {},
   "outputs": [],
   "source": [
    "import re"
   ]
  },
  {
   "cell_type": "code",
   "execution_count": 52,
   "metadata": {},
   "outputs": [
    {
     "data": {
      "text/plain": [
       "['Abad Juan Catalán',\n",
       " 'Abada',\n",
       " 'Abades',\n",
       " 'Abadesa',\n",
       " 'Ábalos',\n",
       " 'Abanico',\n",
       " 'Abantos',\n",
       " 'Abardero',\n",
       " 'Abarzuza',\n",
       " 'Abay']"
      ]
     },
     "execution_count": 52,
     "metadata": {},
     "output_type": "execute_result"
    }
   ],
   "source": [
    "names = []\n",
    "\n",
    "pattern = '\\s([A-ZÀ-Ö].+)'\n",
    "\n",
    "for st in streets_final:\n",
    "        name = re.findall(pattern, st)\n",
    "        if len(name) > 0:\n",
    "            names.append(name[0])\n",
    "\n",
    "names[:10]"
   ]
  },
  {
   "cell_type": "code",
   "execution_count": 53,
   "metadata": {},
   "outputs": [
    {
     "data": {
      "text/plain": [
       "2272"
      ]
     },
     "execution_count": 53,
     "metadata": {},
     "output_type": "execute_result"
    }
   ],
   "source": [
    "len(names)"
   ]
  },
  {
   "cell_type": "code",
   "execution_count": 54,
   "metadata": {},
   "outputs": [
    {
     "data": {
      "text/html": [
       "<div>\n",
       "<style scoped>\n",
       "    .dataframe tbody tr th:only-of-type {\n",
       "        vertical-align: middle;\n",
       "    }\n",
       "\n",
       "    .dataframe tbody tr th {\n",
       "        vertical-align: top;\n",
       "    }\n",
       "\n",
       "    .dataframe thead th {\n",
       "        text-align: right;\n",
       "    }\n",
       "</style>\n",
       "<table border=\"1\" class=\"dataframe\">\n",
       "  <thead>\n",
       "    <tr style=\"text-align: right;\">\n",
       "      <th></th>\n",
       "      <th>0</th>\n",
       "    </tr>\n",
       "  </thead>\n",
       "  <tbody>\n",
       "    <tr>\n",
       "      <td>0</td>\n",
       "      <td>Abad Juan Catalán</td>\n",
       "    </tr>\n",
       "    <tr>\n",
       "      <td>1</td>\n",
       "      <td>Abada</td>\n",
       "    </tr>\n",
       "    <tr>\n",
       "      <td>2</td>\n",
       "      <td>Abades</td>\n",
       "    </tr>\n",
       "    <tr>\n",
       "      <td>3</td>\n",
       "      <td>Abadesa</td>\n",
       "    </tr>\n",
       "    <tr>\n",
       "      <td>4</td>\n",
       "      <td>Ábalos</td>\n",
       "    </tr>\n",
       "  </tbody>\n",
       "</table>\n",
       "</div>"
      ],
      "text/plain": [
       "                   0\n",
       "0  Abad Juan Catalán\n",
       "1              Abada\n",
       "2             Abades\n",
       "3            Abadesa\n",
       "4             Ábalos"
      ]
     },
     "execution_count": 54,
     "metadata": {},
     "output_type": "execute_result"
    }
   ],
   "source": [
    "import pandas as pd\n",
    "\n",
    "streets_series = pd.Series(streets_final)\n",
    "\n",
    "pattern = '\\s([A-ZÀ-Ö].+)' #captura desde la primera letra mayúscula precedida por un espacio\n",
    "\n",
    "names_series = streets_series.str.extract(pattern)\n",
    "\n",
    "names_series.head()"
   ]
  },
  {
   "cell_type": "code",
   "execution_count": 55,
   "metadata": {},
   "outputs": [
    {
     "data": {
      "text/plain": [
       "2275"
      ]
     },
     "execution_count": 55,
     "metadata": {},
     "output_type": "execute_result"
    }
   ],
   "source": [
    "len(names_series.notnull())"
   ]
  },
  {
   "cell_type": "code",
   "execution_count": null,
   "metadata": {},
   "outputs": [],
   "source": []
  }
 ],
 "metadata": {
  "kernelspec": {
   "display_name": "Python 3",
   "language": "python",
   "name": "python3"
  },
  "language_info": {
   "codemirror_mode": {
    "name": "ipython",
    "version": 3
   },
   "file_extension": ".py",
   "mimetype": "text/x-python",
   "name": "python",
   "nbconvert_exporter": "python",
   "pygments_lexer": "ipython3",
   "version": "3.7.4"
  }
 },
 "nbformat": 4,
 "nbformat_minor": 2
}
